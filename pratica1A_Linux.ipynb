{
  "cells": [
    {
      "cell_type": "code",
      "execution_count": null,
      "metadata": {
        "id": "8d0peZf4o21L"
      },
      "outputs": [],
      "source": [
        "from google.colab import drive\n",
        "drive.mount('/content/aqui')"
      ]
    },
    {
      "cell_type": "code",
      "execution_count": null,
      "metadata": {
        "id": "6HE9y_aTS4lp"
      },
      "outputs": [],
      "source": [
        "# isso é uma soma\n",
        "16+15+15"
      ]
    },
    {
      "cell_type": "code",
      "execution_count": null,
      "metadata": {
        "id": "af8vV7Cwma2p"
      },
      "outputs": [],
      "source": [
        "# copia arquivo\n",
        "!cp \"/content/aqui/MyDrive/CloudComputing_DSA29/Aula1/ENEM_2022.zip\"."
      ]
    },
    {
      "cell_type": "code",
      "execution_count": null,
      "metadata": {
        "id": "Zt6DM2dspOug"
      },
      "outputs": [],
      "source": [
        "# lista arquivos\n",
        "!ls -lha"
      ]
    },
    {
      "cell_type": "code",
      "execution_count": null,
      "metadata": {
        "id": "VPmuVrtApRDp"
      },
      "outputs": [],
      "source": [
        "# descompacta zip\n",
        "!unzip ENEM_2022.zip -d teste"
      ]
    },
    {
      "cell_type": "code",
      "execution_count": null,
      "metadata": {
        "id": "Z_b4lmtTpZV0"
      },
      "outputs": [],
      "source": [
        "!ls -lha"
      ]
    },
    {
      "cell_type": "code",
      "execution_count": null,
      "metadata": {
        "id": "e0mSvIGzCHjv"
      },
      "outputs": [],
      "source": [
        "!rm ENEM_2022.zip"
      ]
    },
    {
      "cell_type": "code",
      "execution_count": null,
      "metadata": {
        "id": "_a_RN1QvAG6w"
      },
      "outputs": [],
      "source": [
        "# cria diretório\n",
        "!mkdir ENEM"
      ]
    },
    {
      "cell_type": "code",
      "execution_count": null,
      "metadata": {
        "id": "kCrgJzbQA1Hq"
      },
      "outputs": [],
      "source": [
        "# verifica diretório atual\n",
        "!pwd"
      ]
    },
    {
      "cell_type": "code",
      "execution_count": null,
      "metadata": {
        "id": "ESSQGMd9A5wa"
      },
      "outputs": [],
      "source": [
        "# navegação na estrutura de diretórios\n",
        "!cd ENEM"
      ]
    },
    {
      "cell_type": "code",
      "execution_count": null,
      "metadata": {
        "id": "Cm5qt6eZBFG8"
      },
      "outputs": [],
      "source": [
        "!ls -lha"
      ]
    },
    {
      "cell_type": "code",
      "execution_count": null,
      "metadata": {
        "id": "2asr7T1jALdB"
      },
      "outputs": [],
      "source": [
        "# move arquivos csv para o novo diretório\n",
        "!mv ENEM_*.csv ENEM"
      ]
    },
    {
      "cell_type": "code",
      "execution_count": null,
      "metadata": {
        "id": "sRP_Tocgptmt"
      },
      "outputs": [],
      "source": [
        "# mostra topo do arquivo\n",
        "!head -n 2 ENEM/ENEM_AC.csv"
      ]
    },
    {
      "cell_type": "code",
      "execution_count": null,
      "metadata": {
        "id": "cu8pSBUhpz8b"
      },
      "outputs": [],
      "source": [
        "# mostra final do arquivo\n",
        "!tail -n 5 ENEM/ENEM_AC.csv"
      ]
    },
    {
      "cell_type": "code",
      "execution_count": null,
      "metadata": {
        "id": "S5Ldy3Ikp237"
      },
      "outputs": [],
      "source": [
        "# word count\n",
        "!wc -l ENEM/ENEM_AC.csv"
      ]
    },
    {
      "cell_type": "code",
      "execution_count": null,
      "metadata": {
        "id": "BHCz49iCqSKw"
      },
      "outputs": [],
      "source": [
        "!cat ENEM/ENEM_AC.csv"
      ]
    },
    {
      "cell_type": "code",
      "execution_count": null,
      "metadata": {
        "id": "HrN_0-nb3_7-"
      },
      "outputs": [],
      "source": [
        "# outra forma de realizar a contagem\n",
        "!cat ENEM/ENEM_AC.csv | wc -l"
      ]
    },
    {
      "cell_type": "code",
      "execution_count": null,
      "metadata": {
        "id": "H1TVLDfP8g4p"
      },
      "outputs": [],
      "source": [
        "# junção de arquivos (direcionando saída para outro arquivo)\n",
        "!cat ENEM/ENEM_AC.csv >> TODOS.csv"
      ]
    },
    {
      "cell_type": "code",
      "execution_count": null,
      "metadata": {
        "id": "g7JcI4Ec8uuB"
      },
      "outputs": [],
      "source": [
        "# verificação de diferenças\n",
        "!diff ENEM/ENEM_AC.csv TODOS.csv"
      ]
    },
    {
      "cell_type": "code",
      "execution_count": null,
      "metadata": {
        "id": "A2ciyUYh-Vtw"
      },
      "outputs": [],
      "source": [
        "!wc -l ENEM/ENEM_AL.csv"
      ]
    },
    {
      "cell_type": "code",
      "execution_count": null,
      "metadata": {
        "id": "m6NlCeo3WuMN"
      },
      "outputs": [],
      "source": [
        "63945 + 22601"
      ]
    },
    {
      "cell_type": "code",
      "execution_count": null,
      "metadata": {
        "id": "ZitAjsxv811Q"
      },
      "outputs": [],
      "source": [
        "# direcionando de saída de um segundo para o novo arquivo\n",
        "!cat ENEM/ENEM_AL.csv > TODOS.csv"
      ]
    },
    {
      "cell_type": "code",
      "execution_count": null,
      "metadata": {
        "id": "pcRI2oHV86pD"
      },
      "outputs": [],
      "source": [
        "# verificação de diferenças\n",
        "!diff ENEM/ENEM_AL.csv TODOS.csv\n",
        "#!diff ENEM_AL.csv TODOS.csv"
      ]
    },
    {
      "cell_type": "code",
      "execution_count": null,
      "metadata": {
        "id": "f7-Zrq2F9O9C"
      },
      "outputs": [],
      "source": [
        "!diff ENEM/ENEM_AC.csv TODOS.csv | wc -l"
      ]
    },
    {
      "cell_type": "code",
      "execution_count": null,
      "metadata": {
        "id": "164k2cRv-28A"
      },
      "outputs": [],
      "source": [
        "!sed -n 86545,86547p TODOS.csv"
      ]
    },
    {
      "cell_type": "code",
      "execution_count": null,
      "metadata": {
        "id": "Bx-uB4Dx_rLw"
      },
      "outputs": [],
      "source": [
        "!cat ENEM/ENEM_*.csv > TODOS.csv"
      ]
    },
    {
      "cell_type": "code",
      "execution_count": null,
      "metadata": {
        "id": "Z4YourBb_wZv"
      },
      "outputs": [],
      "source": [
        "!wc -l TODOS.csv"
      ]
    },
    {
      "cell_type": "code",
      "execution_count": null,
      "metadata": {
        "id": "jBocNzQqCp07"
      },
      "outputs": [],
      "source": [
        "# compacta arquivo com todos os registros\n",
        "!zip ENEM2022TODOS.zip TODOS.csv"
      ]
    },
    {
      "cell_type": "code",
      "execution_count": null,
      "metadata": {
        "id": "ZHBWkOAJD6TX"
      },
      "outputs": [],
      "source": [
        "# guarde no seu próprio drive\n",
        "!mv ENEM2022TODOS.zip \"/content/aqui/MyDrive/CloudComputing_DSA29\""
      ]
    },
    {
      "cell_type": "code",
      "execution_count": null,
      "metadata": {
        "id": "aLaN1HRlfjfm"
      },
      "outputs": [],
      "source": [
        "!ls -ltr"
      ]
    }
  ],
  "metadata": {
    "colab": {
      "provenance": []
    },
    "kernelspec": {
      "display_name": "Python 3",
      "name": "python3"
    },
    "language_info": {
      "name": "python"
    }
  },
  "nbformat": 4,
  "nbformat_minor": 0
}
